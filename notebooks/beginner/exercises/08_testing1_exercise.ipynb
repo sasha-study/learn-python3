{
 "cells": [
  {
   "cell_type": "code",
   "execution_count": 1,
   "metadata": {},
   "outputs": [
    {
     "name": "stdout",
     "output_type": "stream",
     "text": [
      "Requirement already satisfied: pytest in /home/user/study/learn-python3/.conda/lib/python3.13/site-packages (8.4.1)\n",
      "Requirement already satisfied: iniconfig>=1 in /home/user/study/learn-python3/.conda/lib/python3.13/site-packages (from pytest) (2.1.0)\n",
      "Requirement already satisfied: packaging>=20 in /home/user/study/learn-python3/.conda/lib/python3.13/site-packages (from pytest) (25.0)\n",
      "Requirement already satisfied: pluggy<2,>=1.5 in /home/user/study/learn-python3/.conda/lib/python3.13/site-packages (from pytest) (1.6.0)\n",
      "Requirement already satisfied: pygments>=2.7.2 in /home/user/study/learn-python3/.conda/lib/python3.13/site-packages (from pytest) (2.19.2)\n",
      "Requirement already satisfied: ipytest in /home/user/study/learn-python3/.conda/lib/python3.13/site-packages (0.14.2)\n",
      "Requirement already satisfied: ipython in /home/user/study/learn-python3/.conda/lib/python3.13/site-packages (from ipytest) (9.4.0)\n",
      "Requirement already satisfied: packaging in /home/user/study/learn-python3/.conda/lib/python3.13/site-packages (from ipytest) (25.0)\n",
      "Requirement already satisfied: pytest>=5.4 in /home/user/study/learn-python3/.conda/lib/python3.13/site-packages (from ipytest) (8.4.1)\n",
      "Requirement already satisfied: iniconfig>=1 in /home/user/study/learn-python3/.conda/lib/python3.13/site-packages (from pytest>=5.4->ipytest) (2.1.0)\n",
      "Requirement already satisfied: pluggy<2,>=1.5 in /home/user/study/learn-python3/.conda/lib/python3.13/site-packages (from pytest>=5.4->ipytest) (1.6.0)\n",
      "Requirement already satisfied: pygments>=2.7.2 in /home/user/study/learn-python3/.conda/lib/python3.13/site-packages (from pytest>=5.4->ipytest) (2.19.2)\n",
      "Requirement already satisfied: decorator in /home/user/study/learn-python3/.conda/lib/python3.13/site-packages (from ipython->ipytest) (5.2.1)\n",
      "Requirement already satisfied: ipython-pygments-lexers in /home/user/study/learn-python3/.conda/lib/python3.13/site-packages (from ipython->ipytest) (1.1.1)\n",
      "Requirement already satisfied: jedi>=0.16 in /home/user/study/learn-python3/.conda/lib/python3.13/site-packages (from ipython->ipytest) (0.19.2)\n",
      "Requirement already satisfied: matplotlib-inline in /home/user/study/learn-python3/.conda/lib/python3.13/site-packages (from ipython->ipytest) (0.1.7)\n",
      "Requirement already satisfied: pexpect>4.3 in /home/user/study/learn-python3/.conda/lib/python3.13/site-packages (from ipython->ipytest) (4.9.0)\n",
      "Requirement already satisfied: prompt_toolkit<3.1.0,>=3.0.41 in /home/user/study/learn-python3/.conda/lib/python3.13/site-packages (from ipython->ipytest) (3.0.51)\n",
      "Requirement already satisfied: stack_data in /home/user/study/learn-python3/.conda/lib/python3.13/site-packages (from ipython->ipytest) (0.6.3)\n",
      "Requirement already satisfied: traitlets>=5.13.0 in /home/user/study/learn-python3/.conda/lib/python3.13/site-packages (from ipython->ipytest) (5.14.3)\n",
      "Requirement already satisfied: wcwidth in /home/user/study/learn-python3/.conda/lib/python3.13/site-packages (from prompt_toolkit<3.1.0,>=3.0.41->ipython->ipytest) (0.2.13)\n",
      "Requirement already satisfied: parso<0.9.0,>=0.8.4 in /home/user/study/learn-python3/.conda/lib/python3.13/site-packages (from jedi>=0.16->ipython->ipytest) (0.8.4)\n",
      "Requirement already satisfied: ptyprocess>=0.5 in /home/user/study/learn-python3/.conda/lib/python3.13/site-packages (from pexpect>4.3->ipython->ipytest) (0.7.0)\n",
      "Requirement already satisfied: executing>=1.2.0 in /home/user/study/learn-python3/.conda/lib/python3.13/site-packages (from stack_data->ipython->ipytest) (2.2.0)\n",
      "Requirement already satisfied: asttokens>=2.1.0 in /home/user/study/learn-python3/.conda/lib/python3.13/site-packages (from stack_data->ipython->ipytest) (3.0.0)\n",
      "Requirement already satisfied: pure_eval in /home/user/study/learn-python3/.conda/lib/python3.13/site-packages (from stack_data->ipython->ipytest) (0.2.3)\n"
     ]
    }
   ],
   "source": [
    "# Let's make sure pytest and ipytest packages are installed\n",
    "# ipytest is required for running pytest inside Jupyter notebooks\n",
    "import sys\n",
    "\n",
    "!{sys.executable} -m pip install pytest\n",
    "!{sys.executable} -m pip install ipytest\n",
    "\n",
    "# These are needed for running pytest inside Jupyter notebooks\n",
    "import ipytest\n",
    "\n",
    "ipytest.autoconfig()"
   ]
  },
  {
   "cell_type": "markdown",
   "metadata": {},
   "source": [
    "# 1. Creating your first test case\n",
    "There is an implementation for `get_divisible_by_five` function in the cell below. Your task is to create a test case for this function to verify that it works correctly.\n"
   ]
  },
  {
   "cell_type": "code",
   "execution_count": 3,
   "metadata": {
    "editable": false
   },
   "outputs": [],
   "source": [
    "def get_divisible_by_five(numbers):\n",
    "    \"\"\"Returns a list of numbers which are divisible by five in the list got as an argument\"\"\"\n",
    "    result = []\n",
    "    for num in numbers:\n",
    "        if not num % 5:\n",
    "            result.append(num)\n",
    "\n",
    "    return result"
   ]
  },
  {
   "cell_type": "code",
   "execution_count": 8,
   "metadata": {},
   "outputs": [
    {
     "name": "stdout",
     "output_type": "stream",
     "text": [
      "\u001b[31mF\u001b[0m\u001b[31m                                                                                            [100%]\u001b[0m\n",
      "============================================= FAILURES =============================================\n",
      "\u001b[31m\u001b[1m____________________________________ test_get_divisible_by_five ____________________________________\u001b[0m\n",
      "\n",
      "    \u001b[0m\u001b[94mdef\u001b[39;49;00m\u001b[90m \u001b[39;49;00m\u001b[92mtest_get_divisible_by_five\u001b[39;49;00m():\u001b[90m\u001b[39;49;00m\n",
      "    \u001b[90m\u001b[39;49;00m\n",
      "        source = [\u001b[94m1\u001b[39;49;00m,\u001b[94m2\u001b[39;49;00m,\u001b[94m5\u001b[39;49;00m,\u001b[94m6\u001b[39;49;00m,\u001b[94m10\u001b[39;49;00m,\u001b[94m11\u001b[39;49;00m]\u001b[90m\u001b[39;49;00m\n",
      "        expected= [\u001b[94m5\u001b[39;49;00m,\u001b[94m101\u001b[39;49;00m]\u001b[90m\u001b[39;49;00m\n",
      "        result = get_divisible_by_five(source)\u001b[90m\u001b[39;49;00m\n",
      ">       \u001b[94massert\u001b[39;49;00m result == expected \u001b[90m#, f\"Expected {expected}, but got {result}\"\u001b[39;49;00m\u001b[90m\u001b[39;49;00m\n",
      "        ^^^^^^^^^^^^^^^^^^^^^^^^^\u001b[90m\u001b[39;49;00m\n",
      "\u001b[1m\u001b[31mE       assert [5, 10] == [5, 101]\u001b[0m\n",
      "\u001b[1m\u001b[31mE         \u001b[0m\n",
      "\u001b[1m\u001b[31mE         At index 1 diff: \u001b[0m\u001b[94m10\u001b[39;49;00m\u001b[90m\u001b[39;49;00m != \u001b[0m\u001b[94m101\u001b[39;49;00m\u001b[90m\u001b[39;49;00m\u001b[0m\n",
      "\u001b[1m\u001b[31mE         Use -v to get more diff\u001b[0m\n",
      "\n",
      "\u001b[1m\u001b[31m/tmp/ipykernel_51734/2997467063.py\u001b[0m:6: AssertionError\n",
      "\u001b[36m\u001b[1m===================================== short test summary info ======================================\u001b[0m\n",
      "\u001b[31mFAILED\u001b[0m t_a0a497f7190c4081a7cc10f7722ee36e.py::\u001b[1mtest_get_divisible_by_five\u001b[0m - assert [5, 10] == [5, 101]\n",
      "\u001b[31m\u001b[31m\u001b[1m1 failed\u001b[0m\u001b[31m in 0.01s\u001b[0m\u001b[0m\n"
     ]
    }
   ],
   "source": [
    "%%ipytest\n",
    "\n",
    "def test_get_divisible_by_five():\n",
    "    \n",
    "    source = [1,2,5,6,10,11]\n",
    "    expected= [5,101]\n",
    "    result = get_divisible_by_five(source)\n",
    "    assert result == expected #, f\"Expected {expected}, but got {result}\""
   ]
  }
 ],
 "metadata": {
  "kernelspec": {
   "display_name": "Python 3",
   "language": "python",
   "name": "python3"
  },
  "language_info": {
   "codemirror_mode": {
    "name": "ipython",
    "version": 3
   },
   "file_extension": ".py",
   "mimetype": "text/x-python",
   "name": "python",
   "nbconvert_exporter": "python",
   "pygments_lexer": "ipython3",
   "version": "3.13.5"
  }
 },
 "nbformat": 4,
 "nbformat_minor": 2
}
