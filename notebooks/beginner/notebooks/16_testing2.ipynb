{
 "cells": [
  {
   "cell_type": "markdown",
   "metadata": {},
   "source": [
    "# Testing with [pytest](https://docs.pytest.org/en/latest/) - part 2"
   ]
  },
  {
   "cell_type": "code",
   "execution_count": 2,
   "metadata": {},
   "outputs": [
    {
     "name": "stdout",
     "output_type": "stream",
     "text": [
      "Requirement already satisfied: pytest in /home/user/study/learn-python3/.conda/lib/python3.13/site-packages (8.4.1)\n",
      "Requirement already satisfied: iniconfig>=1 in /home/user/study/learn-python3/.conda/lib/python3.13/site-packages (from pytest) (2.1.0)\n",
      "Requirement already satisfied: packaging>=20 in /home/user/study/learn-python3/.conda/lib/python3.13/site-packages (from pytest) (25.0)\n",
      "Requirement already satisfied: pluggy<2,>=1.5 in /home/user/study/learn-python3/.conda/lib/python3.13/site-packages (from pytest) (1.6.0)\n",
      "Requirement already satisfied: pygments>=2.7.2 in /home/user/study/learn-python3/.conda/lib/python3.13/site-packages (from pytest) (2.19.2)\n",
      "Requirement already satisfied: ipytest in /home/user/study/learn-python3/.conda/lib/python3.13/site-packages (0.14.2)\n",
      "Requirement already satisfied: ipython in /home/user/study/learn-python3/.conda/lib/python3.13/site-packages (from ipytest) (9.4.0)\n",
      "Requirement already satisfied: packaging in /home/user/study/learn-python3/.conda/lib/python3.13/site-packages (from ipytest) (25.0)\n",
      "Requirement already satisfied: pytest>=5.4 in /home/user/study/learn-python3/.conda/lib/python3.13/site-packages (from ipytest) (8.4.1)\n",
      "Requirement already satisfied: iniconfig>=1 in /home/user/study/learn-python3/.conda/lib/python3.13/site-packages (from pytest>=5.4->ipytest) (2.1.0)\n",
      "Requirement already satisfied: pluggy<2,>=1.5 in /home/user/study/learn-python3/.conda/lib/python3.13/site-packages (from pytest>=5.4->ipytest) (1.6.0)\n",
      "Requirement already satisfied: pygments>=2.7.2 in /home/user/study/learn-python3/.conda/lib/python3.13/site-packages (from pytest>=5.4->ipytest) (2.19.2)\n",
      "Requirement already satisfied: decorator in /home/user/study/learn-python3/.conda/lib/python3.13/site-packages (from ipython->ipytest) (5.2.1)\n",
      "Requirement already satisfied: ipython-pygments-lexers in /home/user/study/learn-python3/.conda/lib/python3.13/site-packages (from ipython->ipytest) (1.1.1)\n",
      "Requirement already satisfied: jedi>=0.16 in /home/user/study/learn-python3/.conda/lib/python3.13/site-packages (from ipython->ipytest) (0.19.2)\n",
      "Requirement already satisfied: matplotlib-inline in /home/user/study/learn-python3/.conda/lib/python3.13/site-packages (from ipython->ipytest) (0.1.7)\n",
      "Requirement already satisfied: pexpect>4.3 in /home/user/study/learn-python3/.conda/lib/python3.13/site-packages (from ipython->ipytest) (4.9.0)\n",
      "Requirement already satisfied: prompt_toolkit<3.1.0,>=3.0.41 in /home/user/study/learn-python3/.conda/lib/python3.13/site-packages (from ipython->ipytest) (3.0.51)\n",
      "Requirement already satisfied: stack_data in /home/user/study/learn-python3/.conda/lib/python3.13/site-packages (from ipython->ipytest) (0.6.3)\n",
      "Requirement already satisfied: traitlets>=5.13.0 in /home/user/study/learn-python3/.conda/lib/python3.13/site-packages (from ipython->ipytest) (5.14.3)\n",
      "Requirement already satisfied: wcwidth in /home/user/study/learn-python3/.conda/lib/python3.13/site-packages (from prompt_toolkit<3.1.0,>=3.0.41->ipython->ipytest) (0.2.13)\n",
      "Requirement already satisfied: parso<0.9.0,>=0.8.4 in /home/user/study/learn-python3/.conda/lib/python3.13/site-packages (from jedi>=0.16->ipython->ipytest) (0.8.4)\n",
      "Requirement already satisfied: ptyprocess>=0.5 in /home/user/study/learn-python3/.conda/lib/python3.13/site-packages (from pexpect>4.3->ipython->ipytest) (0.7.0)\n",
      "Requirement already satisfied: executing>=1.2.0 in /home/user/study/learn-python3/.conda/lib/python3.13/site-packages (from stack_data->ipython->ipytest) (2.2.0)\n",
      "Requirement already satisfied: asttokens>=2.1.0 in /home/user/study/learn-python3/.conda/lib/python3.13/site-packages (from stack_data->ipython->ipytest) (3.0.0)\n",
      "Requirement already satisfied: pure_eval in /home/user/study/learn-python3/.conda/lib/python3.13/site-packages (from stack_data->ipython->ipytest) (0.2.3)\n"
     ]
    }
   ],
   "source": [
    "# Let's make sure pytest and ipytest packages are installed\n",
    "# ipytest is required for running pytest inside Jupyter notebooks\n",
    "import sys\n",
    "\n",
    "!{sys.executable} -m pip install pytest\n",
    "!{sys.executable} -m pip install ipytest\n",
    "\n",
    "# These are needed for running pytest inside Jupyter notebooks\n",
    "import ipytest\n",
    "\n",
    "ipytest.autoconfig()"
   ]
  },
  {
   "cell_type": "markdown",
   "metadata": {},
   "source": [
    "## [`@pytest.fixture`](https://docs.pytest.org/en/latest/fixture.html#pytest-fixtures-explicit-modular-scalable)\n",
    "Let's consider we have an implemention of `Person` class which we want to test."
   ]
  },
  {
   "cell_type": "code",
   "execution_count": 3,
   "metadata": {},
   "outputs": [],
   "source": [
    "class Person:\n",
    "    def __init__(self, first_name, last_name, age):\n",
    "        self.first_name = first_name\n",
    "        self.last_name = last_name\n",
    "        self.age = age\n",
    "\n",
    "    @property\n",
    "    def full_name(self):\n",
    "        return f\"{self.first_name} {self.last_name}\"\n",
    "\n",
    "    @property\n",
    "    def as_dict(self):\n",
    "        return {\"name\": self.full_name, \"age\": self.age}\n",
    "\n",
    "    def increase_age(self, years):\n",
    "        if years < 0:\n",
    "            raise ValueError(\"Can not make people younger :(\")\n",
    "        self.age += years"
   ]
  },
  {
   "cell_type": "markdown",
   "metadata": {},
   "source": [
    "You can easily create resusable testing code by using pytest fixtures. If you introduce your fixtures inside [_conftest.py_](https://docs.pytest.org/en/latest/fixture.html#conftest-py-sharing-fixture-functions), the fixtures are available for all your test cases. In general, the location of _conftest.py_ is at the root of your _tests_ directory."
   ]
  },
  {
   "cell_type": "code",
   "execution_count": 4,
   "metadata": {},
   "outputs": [],
   "source": [
    "import pytest\n",
    "\n",
    "\n",
    "@pytest.fixture()\n",
    "def default_person():\n",
    "    person = Person(first_name=\"John\", last_name=\"Doe\", age=82)\n",
    "    return person"
   ]
  },
  {
   "cell_type": "markdown",
   "metadata": {},
   "source": [
    "Then you can utilize `default_person` fixture in the actual test cases. "
   ]
  },
  {
   "cell_type": "code",
   "execution_count": 5,
   "metadata": {},
   "outputs": [
    {
     "name": "stdout",
     "output_type": "stream",
     "text": [
      "\u001b[32m.\u001b[0m\u001b[32m.\u001b[0m\u001b[32m.\u001b[0m\u001b[32m.\u001b[0m\u001b[32m                                                                                         [100%]\u001b[0m\n",
      "\u001b[32m\u001b[32m\u001b[1m4 passed\u001b[0m\u001b[32m in 0.01s\u001b[0m\u001b[0m\n"
     ]
    }
   ],
   "source": [
    "%%ipytest\n",
    "\n",
    "\n",
    "def test_full_name(default_person): # Note: we use fixture as an argument of the test case\n",
    "    result = default_person.full_name\n",
    "    assert result == 'John Doe'\n",
    "    \n",
    "    \n",
    "def test_as_dict(default_person):\n",
    "    expected = {'name': 'John Doe', 'age': 82}\n",
    "    result = default_person.as_dict\n",
    "    assert result == expected\n",
    "    \n",
    "    \n",
    "def test_increase_age(default_person):\n",
    "    default_person.increase_age(1)\n",
    "    assert default_person.age == 83\n",
    "    \n",
    "    default_person.increase_age(10)\n",
    "    assert default_person.age == 93\n",
    "    \n",
    "    \n",
    "def test_increase_age_with_negative_number(default_person):\n",
    "    with pytest.raises(ValueError):\n",
    "        default_person.increase_age(-1)"
   ]
  },
  {
   "cell_type": "markdown",
   "metadata": {},
   "source": [
    "By using a fixture, we could use the same `default_person` for all our four test cases!\n",
    "\n",
    "In the `test_increase_age_with_negative_number` we used [`pytest.raises`](https://docs.pytest.org/en/latest/assert.html#assertions-about-expected-exceptions) to verify that an exception is raised. "
   ]
  },
  {
   "cell_type": "markdown",
   "metadata": {},
   "source": [
    "## [`@pytest.mark.parametrize`](https://docs.pytest.org/en/latest/parametrize.html#pytest-mark-parametrize-parametrizing-test-functions)\n",
    "Sometimes you want to test the same functionality with multiple different inputs. `pytest.mark.parametrize` is your solution for defining multiple different inputs with expected outputs. Let's consider the following implementation of `replace_names` function. "
   ]
  },
  {
   "cell_type": "code",
   "execution_count": 6,
   "metadata": {},
   "outputs": [],
   "source": [
    "def replace_names(original_str, new_name):\n",
    "    \"\"\"Replaces names (uppercase words) of original_str by new_name\"\"\"\n",
    "    words = original_str.split()\n",
    "    manipulated_words = [new_name if w.istitle() else w for w in words]\n",
    "    return \" \".join(manipulated_words)"
   ]
  },
  {
   "cell_type": "markdown",
   "metadata": {},
   "source": [
    "We can test the `replace_names` function with multiple inputs by using `pytest.mark.parametrize`."
   ]
  },
  {
   "cell_type": "code",
   "execution_count": 7,
   "metadata": {},
   "outputs": [
    {
     "name": "stdout",
     "output_type": "stream",
     "text": [
      "\u001b[32m.\u001b[0m\u001b[32m.\u001b[0m\u001b[32m.\u001b[0m\u001b[32m                                                                                          [100%]\u001b[0m\n",
      "\u001b[32m\u001b[32m\u001b[1m3 passed\u001b[0m\u001b[32m in 0.01s\u001b[0m\u001b[0m\n"
     ]
    }
   ],
   "source": [
    "%%ipytest\n",
    "\n",
    "\n",
    "@pytest.mark.parametrize(\"original,new_name,expected\", [\n",
    "        ('this is Lisa', 'John Doe', 'this is John Doe'),\n",
    "        ('how about Frank and Amy', 'John', 'how about John and John'),\n",
    "        ('no names here', 'John Doe', 'no names here'),\n",
    "    ])\n",
    "def test_replace_names(original, new_name, expected):\n",
    "    result = replace_names(original, new_name)\n",
    "    assert result == expected"
   ]
  }
 ],
 "metadata": {
  "kernelspec": {
   "display_name": "Python 3",
   "language": "python",
   "name": "python3"
  },
  "language_info": {
   "codemirror_mode": {
    "name": "ipython",
    "version": 3
   },
   "file_extension": ".py",
   "mimetype": "text/x-python",
   "name": "python",
   "nbconvert_exporter": "python",
   "pygments_lexer": "ipython3",
   "version": "3.13.5"
  }
 },
 "nbformat": 4,
 "nbformat_minor": 2
}
