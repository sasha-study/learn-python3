{
 "cells": [
  {
   "cell_type": "markdown",
   "metadata": {},
   "source": [
    "# Testing with [pytest](https://docs.pytest.org/en/latest/) - part 1"
   ]
  },
  {
   "cell_type": "markdown",
   "metadata": {},
   "source": [
    "## Why to write tests?\n",
    "* Who wants to perform manual testing?\n",
    "* When you fix a bug or add a new feature, tests are a way to verify that you did not break anything on the way\n",
    "* If you have clear requirements, you can have matching test(s) for each requirement\n",
    "* You don't have to be afraid of refactoring\n",
    "* Tests document your implementation - they show other people use cases of your implementation\n",
    "* This list is endless..."
   ]
  },
  {
   "cell_type": "markdown",
   "metadata": {},
   "source": [
    "## [Test-driven development](https://en.wikipedia.org/wiki/Test-driven_development) aka TDD\n",
    "In short, the basic idea of TDD is to write tests before writing the actual implementation. Maybe the most significant benefit of the approach is that the developer focuses on writing tests which match with what the program should do. Whereas if the tests are written after the actual implementation, there is a high risk for rushing tests which just show green light for the already written logic.\n",
    "\n",
    "Tests are first class citizens in modern, agile software development, which is why it's important to start thinking TDD early during your Python learning path. \n",
    "\n",
    "The workflow of TDD can be summarized as follows:\n",
    "1. Add a test case(s) for the change / feature / bug fix you are going to implement\n",
    "2. Run all tests and check that the new one fails\n",
    "3. Implement required changes\n",
    "4. Run tests and verify that all pass\n",
    "5. Refactor"
   ]
  },
  {
   "cell_type": "markdown",
   "metadata": {},
   "source": [
    "### Running pytest inside notebooks\n",
    "These are the steps required to run pytest inside Jupyter cells. You can copy the content of this cell to the top of your notebook which contains tests."
   ]
  },
  {
   "cell_type": "code",
   "execution_count": 1,
   "metadata": {},
   "outputs": [
    {
     "name": "stdout",
     "output_type": "stream",
     "text": [
      "Collecting pytest\n",
      "  Downloading pytest-8.4.1-py3-none-any.whl.metadata (7.7 kB)\n",
      "Collecting iniconfig>=1 (from pytest)\n",
      "  Downloading iniconfig-2.1.0-py3-none-any.whl.metadata (2.7 kB)\n",
      "Requirement already satisfied: packaging>=20 in /home/user/study/learn-python3/.conda/lib/python3.13/site-packages (from pytest) (25.0)\n",
      "Collecting pluggy<2,>=1.5 (from pytest)\n",
      "  Downloading pluggy-1.6.0-py3-none-any.whl.metadata (4.8 kB)\n",
      "Requirement already satisfied: pygments>=2.7.2 in /home/user/study/learn-python3/.conda/lib/python3.13/site-packages (from pytest) (2.19.2)\n",
      "Downloading pytest-8.4.1-py3-none-any.whl (365 kB)\n",
      "Downloading pluggy-1.6.0-py3-none-any.whl (20 kB)\n",
      "Downloading iniconfig-2.1.0-py3-none-any.whl (6.0 kB)\n",
      "Installing collected packages: pluggy, iniconfig, pytest\n",
      "\u001b[2K   \u001b[90m━━━━━━━━━━━━━━━━━━━━━━━━━━━━━━━━━━━━━━━━\u001b[0m \u001b[32m3/3\u001b[0m [pytest]2m2/3\u001b[0m [pytest]\n",
      "\u001b[1A\u001b[2KSuccessfully installed iniconfig-2.1.0 pluggy-1.6.0 pytest-8.4.1\n",
      "Collecting ipytest\n",
      "  Downloading ipytest-0.14.2-py3-none-any.whl.metadata (17 kB)\n",
      "Requirement already satisfied: ipython in /home/user/study/learn-python3/.conda/lib/python3.13/site-packages (from ipytest) (9.4.0)\n",
      "Requirement already satisfied: packaging in /home/user/study/learn-python3/.conda/lib/python3.13/site-packages (from ipytest) (25.0)\n",
      "Requirement already satisfied: pytest>=5.4 in /home/user/study/learn-python3/.conda/lib/python3.13/site-packages (from ipytest) (8.4.1)\n",
      "Requirement already satisfied: iniconfig>=1 in /home/user/study/learn-python3/.conda/lib/python3.13/site-packages (from pytest>=5.4->ipytest) (2.1.0)\n",
      "Requirement already satisfied: pluggy<2,>=1.5 in /home/user/study/learn-python3/.conda/lib/python3.13/site-packages (from pytest>=5.4->ipytest) (1.6.0)\n",
      "Requirement already satisfied: pygments>=2.7.2 in /home/user/study/learn-python3/.conda/lib/python3.13/site-packages (from pytest>=5.4->ipytest) (2.19.2)\n",
      "Requirement already satisfied: decorator in /home/user/study/learn-python3/.conda/lib/python3.13/site-packages (from ipython->ipytest) (5.2.1)\n",
      "Requirement already satisfied: ipython-pygments-lexers in /home/user/study/learn-python3/.conda/lib/python3.13/site-packages (from ipython->ipytest) (1.1.1)\n",
      "Requirement already satisfied: jedi>=0.16 in /home/user/study/learn-python3/.conda/lib/python3.13/site-packages (from ipython->ipytest) (0.19.2)\n",
      "Requirement already satisfied: matplotlib-inline in /home/user/study/learn-python3/.conda/lib/python3.13/site-packages (from ipython->ipytest) (0.1.7)\n",
      "Requirement already satisfied: pexpect>4.3 in /home/user/study/learn-python3/.conda/lib/python3.13/site-packages (from ipython->ipytest) (4.9.0)\n",
      "Requirement already satisfied: prompt_toolkit<3.1.0,>=3.0.41 in /home/user/study/learn-python3/.conda/lib/python3.13/site-packages (from ipython->ipytest) (3.0.51)\n",
      "Requirement already satisfied: stack_data in /home/user/study/learn-python3/.conda/lib/python3.13/site-packages (from ipython->ipytest) (0.6.3)\n",
      "Requirement already satisfied: traitlets>=5.13.0 in /home/user/study/learn-python3/.conda/lib/python3.13/site-packages (from ipython->ipytest) (5.14.3)\n",
      "Requirement already satisfied: wcwidth in /home/user/study/learn-python3/.conda/lib/python3.13/site-packages (from prompt_toolkit<3.1.0,>=3.0.41->ipython->ipytest) (0.2.13)\n",
      "Requirement already satisfied: parso<0.9.0,>=0.8.4 in /home/user/study/learn-python3/.conda/lib/python3.13/site-packages (from jedi>=0.16->ipython->ipytest) (0.8.4)\n",
      "Requirement already satisfied: ptyprocess>=0.5 in /home/user/study/learn-python3/.conda/lib/python3.13/site-packages (from pexpect>4.3->ipython->ipytest) (0.7.0)\n",
      "Requirement already satisfied: executing>=1.2.0 in /home/user/study/learn-python3/.conda/lib/python3.13/site-packages (from stack_data->ipython->ipytest) (2.2.0)\n",
      "Requirement already satisfied: asttokens>=2.1.0 in /home/user/study/learn-python3/.conda/lib/python3.13/site-packages (from stack_data->ipython->ipytest) (3.0.0)\n",
      "Requirement already satisfied: pure_eval in /home/user/study/learn-python3/.conda/lib/python3.13/site-packages (from stack_data->ipython->ipytest) (0.2.3)\n",
      "Downloading ipytest-0.14.2-py3-none-any.whl (18 kB)\n",
      "Installing collected packages: ipytest\n",
      "Successfully installed ipytest-0.14.2\n"
     ]
    }
   ],
   "source": [
    "# Let's make sure pytest and ipytest packages are installed\n",
    "# ipytest is required for running pytest inside Jupyter notebooks\n",
    "import sys\n",
    "\n",
    "!{sys.executable} -m pip install pytest\n",
    "!{sys.executable} -m pip install ipytest\n",
    "\n",
    "# These are needed for running pytest inside Jupyter notebooks\n",
    "import ipytest\n",
    "\n",
    "ipytest.autoconfig()"
   ]
  },
  {
   "cell_type": "markdown",
   "metadata": {},
   "source": [
    "## `pytest` test cases\n",
    "Let's consider we have a function called `sum_of_three_numbers` for which we want to write a test."
   ]
  },
  {
   "cell_type": "code",
   "execution_count": 2,
   "metadata": {},
   "outputs": [],
   "source": [
    "def sum_of_three_numbers(num1, num2, num3):\n",
    "    return num1 + num2 + num3"
   ]
  },
  {
   "cell_type": "markdown",
   "metadata": {},
   "source": [
    "Pytest test cases are actually quite similar as you have already seen in the exercises. Most of the exercises are structured like pytest test cases by dividing each exercise into three cells:\n",
    "1. Setup the variables used in the test\n",
    "2. Your implementation\n",
    "3. Verify that your implementation does what is wanted by using assertions\n",
    "\n",
    "See the example test case below to see the similarities between the exercises and common structure of test cases."
   ]
  },
  {
   "cell_type": "code",
   "execution_count": null,
   "metadata": {},
   "outputs": [],
   "source": [
    "%%ipytest\n",
    "\n",
    "def test_sum_of_three_numbers():\n",
    "    # 1. Setup the variables used in the test\n",
    "    num1 = 2\n",
    "    num2 = 3\n",
    "    num3 = 5\n",
    "    \n",
    "    # 2. Call the functionality you want to test\n",
    "    result = sum_of_three_numbers(num1, num2, num3)\n",
    "    \n",
    "    # 3. Verify that the outcome is expected\n",
    "    assert result == 10"
   ]
  },
  {
   "cell_type": "markdown",
   "metadata": {},
   "source": [
    "Now go ahead and change the line `assert result == 10` such that the assertion fails to see the output of a failed test."
   ]
  }
 ],
 "metadata": {
  "kernelspec": {
   "display_name": "Python 3",
   "language": "python",
   "name": "python3"
  },
  "language_info": {
   "codemirror_mode": {
    "name": "ipython",
    "version": 3
   },
   "file_extension": ".py",
   "mimetype": "text/x-python",
   "name": "python",
   "nbconvert_exporter": "python",
   "pygments_lexer": "ipython3",
   "version": "3.13.5"
  }
 },
 "nbformat": 4,
 "nbformat_minor": 2
}
