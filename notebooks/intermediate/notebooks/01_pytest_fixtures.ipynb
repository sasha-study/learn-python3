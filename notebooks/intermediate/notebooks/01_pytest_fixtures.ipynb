{
 "cells": [
  {
   "cell_type": "markdown",
   "metadata": {},
   "source": [
    "# Efficient use of `pytest` fixtures"
   ]
  },
  {
   "cell_type": "markdown",
   "metadata": {},
   "source": [
    "Required boilerplate for using `pytest` inside notebooks."
   ]
  },
  {
   "cell_type": "code",
   "execution_count": 1,
   "metadata": {},
   "outputs": [
    {
     "name": "stdout",
     "output_type": "stream",
     "text": [
      "Requirement already satisfied: pytest in /home/user/study/learn-python3/.conda/lib/python3.13/site-packages (8.4.1)\n",
      "Requirement already satisfied: iniconfig>=1 in /home/user/study/learn-python3/.conda/lib/python3.13/site-packages (from pytest) (2.1.0)\n",
      "Requirement already satisfied: packaging>=20 in /home/user/study/learn-python3/.conda/lib/python3.13/site-packages (from pytest) (25.0)\n",
      "Requirement already satisfied: pluggy<2,>=1.5 in /home/user/study/learn-python3/.conda/lib/python3.13/site-packages (from pytest) (1.6.0)\n",
      "Requirement already satisfied: pygments>=2.7.2 in /home/user/study/learn-python3/.conda/lib/python3.13/site-packages (from pytest) (2.19.2)\n",
      "Requirement already satisfied: ipytest in /home/user/study/learn-python3/.conda/lib/python3.13/site-packages (0.14.2)\n",
      "Requirement already satisfied: ipython in /home/user/study/learn-python3/.conda/lib/python3.13/site-packages (from ipytest) (9.4.0)\n",
      "Requirement already satisfied: packaging in /home/user/study/learn-python3/.conda/lib/python3.13/site-packages (from ipytest) (25.0)\n",
      "Requirement already satisfied: pytest>=5.4 in /home/user/study/learn-python3/.conda/lib/python3.13/site-packages (from ipytest) (8.4.1)\n",
      "Requirement already satisfied: iniconfig>=1 in /home/user/study/learn-python3/.conda/lib/python3.13/site-packages (from pytest>=5.4->ipytest) (2.1.0)\n",
      "Requirement already satisfied: pluggy<2,>=1.5 in /home/user/study/learn-python3/.conda/lib/python3.13/site-packages (from pytest>=5.4->ipytest) (1.6.0)\n",
      "Requirement already satisfied: pygments>=2.7.2 in /home/user/study/learn-python3/.conda/lib/python3.13/site-packages (from pytest>=5.4->ipytest) (2.19.2)\n",
      "Requirement already satisfied: decorator in /home/user/study/learn-python3/.conda/lib/python3.13/site-packages (from ipython->ipytest) (5.2.1)\n",
      "Requirement already satisfied: ipython-pygments-lexers in /home/user/study/learn-python3/.conda/lib/python3.13/site-packages (from ipython->ipytest) (1.1.1)\n",
      "Requirement already satisfied: jedi>=0.16 in /home/user/study/learn-python3/.conda/lib/python3.13/site-packages (from ipython->ipytest) (0.19.2)\n",
      "Requirement already satisfied: matplotlib-inline in /home/user/study/learn-python3/.conda/lib/python3.13/site-packages (from ipython->ipytest) (0.1.7)\n",
      "Requirement already satisfied: pexpect>4.3 in /home/user/study/learn-python3/.conda/lib/python3.13/site-packages (from ipython->ipytest) (4.9.0)\n",
      "Requirement already satisfied: prompt_toolkit<3.1.0,>=3.0.41 in /home/user/study/learn-python3/.conda/lib/python3.13/site-packages (from ipython->ipytest) (3.0.51)\n",
      "Requirement already satisfied: stack_data in /home/user/study/learn-python3/.conda/lib/python3.13/site-packages (from ipython->ipytest) (0.6.3)\n",
      "Requirement already satisfied: traitlets>=5.13.0 in /home/user/study/learn-python3/.conda/lib/python3.13/site-packages (from ipython->ipytest) (5.14.3)\n",
      "Requirement already satisfied: wcwidth in /home/user/study/learn-python3/.conda/lib/python3.13/site-packages (from prompt_toolkit<3.1.0,>=3.0.41->ipython->ipytest) (0.2.13)\n",
      "Requirement already satisfied: parso<0.9.0,>=0.8.4 in /home/user/study/learn-python3/.conda/lib/python3.13/site-packages (from jedi>=0.16->ipython->ipytest) (0.8.4)\n",
      "Requirement already satisfied: ptyprocess>=0.5 in /home/user/study/learn-python3/.conda/lib/python3.13/site-packages (from pexpect>4.3->ipython->ipytest) (0.7.0)\n",
      "Requirement already satisfied: executing>=1.2.0 in /home/user/study/learn-python3/.conda/lib/python3.13/site-packages (from stack_data->ipython->ipytest) (2.2.0)\n",
      "Requirement already satisfied: asttokens>=2.1.0 in /home/user/study/learn-python3/.conda/lib/python3.13/site-packages (from stack_data->ipython->ipytest) (3.0.0)\n",
      "Requirement already satisfied: pure_eval in /home/user/study/learn-python3/.conda/lib/python3.13/site-packages (from stack_data->ipython->ipytest) (0.2.3)\n"
     ]
    }
   ],
   "source": [
    "# Let's make sure pytest and ipytest packages are installed\n",
    "# ipytest is required for running pytest inside Jupyter notebooks\n",
    "import sys\n",
    "\n",
    "!{sys.executable} -m pip install pytest\n",
    "!{sys.executable} -m pip install ipytest\n",
    "\n",
    "# These are needed for running pytest inside Jupyter notebooks\n",
    "import ipytest\n",
    "\n",
    "ipytest.autoconfig()\n",
    "\n",
    "import pytest"
   ]
  },
  {
   "cell_type": "markdown",
   "metadata": {},
   "source": [
    "## Parametrizing fixtures\n",
    "Similarly as you can parametrize test functions with `pytest.mark.parametrize`, you can parametrize fixtures:"
   ]
  },
  {
   "cell_type": "code",
   "execution_count": null,
   "metadata": {},
   "outputs": [],
   "source": [
    "PATHS = [\"/foo/bar.txt\", \"/bar/baz.txt\"]\n",
    "\n",
    "\n",
    "@pytest.fixture(params=PATHS)\n",
    "def executable(request):\n",
    "    return request.param"
   ]
  },
  {
   "cell_type": "code",
   "execution_count": null,
   "metadata": {},
   "outputs": [],
   "source": [
    "%%ipytest -s\n",
    "\n",
    "def test_something_with_executable(executable):\n",
    "    print(executable)"
   ]
  },
  {
   "cell_type": "markdown",
   "metadata": {},
   "source": [
    "## [`pytest.mark.usefixtures`](https://docs.pytest.org/en/latest/fixture.html#usefixtures)\n",
    "[`pytest.mark.usefixtures`](https://docs.pytest.org/en/latest/fixture.html#usefixtures) is useful especially when you want to use some fixture in a set of tests but you don't need the return value of the fixture."
   ]
  },
  {
   "cell_type": "code",
   "execution_count": null,
   "metadata": {},
   "outputs": [],
   "source": [
    "%%ipytest -s\n",
    "\n",
    "\n",
    "@pytest.fixture\n",
    "def my_fixture():\n",
    "    print(\"\\nmy_fixture is used\")\n",
    "  \n",
    "\n",
    "@pytest.fixture\n",
    "def other_fixture():\n",
    "    return \"FOO\"\n",
    "\n",
    "\n",
    "@pytest.mark.usefixtures('my_fixture')\n",
    "class TestMyStuff:\n",
    "    def test_somestuff(self):\n",
    "        pass\n",
    "    \n",
    "    def test_some_other_stuff(self, other_fixture):\n",
    "        print(f'here we use also other_fixture which returns: {other_fixture}')"
   ]
  },
  {
   "cell_type": "markdown",
   "metadata": {},
   "source": [
    "## `pytest` [built-in fixtures](https://docs.pytest.org/en/latest/builtin.html#pytest-api-and-builtin-fixtures)\n",
    "Here are a couple of examples of the useful built-in fixtures, you can view all available fixtures by running `pytest --fixtures`."
   ]
  },
  {
   "cell_type": "markdown",
   "metadata": {},
   "source": [
    "### [`monkeypatch`](https://docs.pytest.org/en/latest/reference.html#_pytest.monkeypatch.MonkeyPatch)\n",
    "Built-in [`monkeypatch`](https://docs.pytest.org/en/latest/reference.html#_pytest.monkeypatch.MonkeyPatch) fixture lets you e.g. set environment variables and set/delete attributes of objects. The use cases are similar as with patching/mocking with `unittest.mock.patch`/`unittest.mock.MagicMock` which are part of the Python Standard Library.\n",
    "\n",
    "**Monkeypatching environment variables:**"
   ]
  },
  {
   "cell_type": "code",
   "execution_count": null,
   "metadata": {},
   "outputs": [],
   "source": [
    "import os\n",
    "\n",
    "\n",
    "def get_env_var_or_none(var_name):\n",
    "    return os.environ.get(var_name, None)"
   ]
  },
  {
   "cell_type": "code",
   "execution_count": null,
   "metadata": {},
   "outputs": [],
   "source": [
    "%%ipytest -s\n",
    "\n",
    "def test_get_env_var_or_none_with_valid_env_var(monkeypatch):\n",
    "    monkeypatch.setenv('MY_ENV_VAR', 'secret')\n",
    "    res = get_env_var_or_none('MY_ENV_VAR')\n",
    "    assert res == 'secret'\n",
    "    \n",
    "def test_get_env_var_or_none_with_missing_env_var():\n",
    "    res = get_env_var_or_none('NOT_EXISTING')\n",
    "    assert res is None"
   ]
  },
  {
   "cell_type": "markdown",
   "metadata": {},
   "source": [
    "**Monkeypatching attributes:**"
   ]
  },
  {
   "cell_type": "code",
   "execution_count": null,
   "metadata": {},
   "outputs": [],
   "source": [
    "class SomeClass:\n",
    "    some_value = \"some value\"\n",
    "\n",
    "    @staticmethod\n",
    "    def tell_the_truth():\n",
    "        print(\"This is the original truth\")"
   ]
  },
  {
   "cell_type": "code",
   "execution_count": null,
   "metadata": {},
   "outputs": [],
   "source": [
    "def fake_truth():\n",
    "    print(\"This is modified truth\")\n",
    "\n",
    "\n",
    "@pytest.fixture\n",
    "def fake_some_class(monkeypatch):\n",
    "    monkeypatch.setattr(\"__main__.SomeClass.some_value\", \"fake value\")\n",
    "    monkeypatch.setattr(\"__main__.SomeClass.tell_the_truth\", fake_truth)"
   ]
  },
  {
   "cell_type": "code",
   "execution_count": null,
   "metadata": {},
   "outputs": [],
   "source": [
    "%%ipytest -s\n",
    "\n",
    "def test_some_class(fake_some_class):\n",
    "    print(SomeClass.some_value)\n",
    "    SomeClass.tell_the_truth()"
   ]
  },
  {
   "cell_type": "markdown",
   "metadata": {},
   "source": [
    "### [`tmpdir`](https://docs.pytest.org/en/latest/tmpdir.html#the-tmpdir-fixture)\n",
    "[`tmpdir`](https://docs.pytest.org/en/latest/tmpdir.html#the-tmpdir-fixture) fixture provides functionality for creating temporary files and directories."
   ]
  },
  {
   "cell_type": "code",
   "execution_count": null,
   "metadata": {},
   "outputs": [],
   "source": [
    "def word_count_of_txt_file(file_path):\n",
    "    with open(file_path) as f:\n",
    "        content = f.read()\n",
    "        return len(content.split())"
   ]
  },
  {
   "cell_type": "code",
   "execution_count": null,
   "metadata": {},
   "outputs": [],
   "source": [
    "%%ipytest -s\n",
    "\n",
    "def test_word_count(tmpdir):\n",
    "    test_file = tmpdir.join('test.txt')\n",
    "    test_file.write('This is example content of seven words')\n",
    "    res = word_count_of_txt_file(str(test_file)) # str returns the path\n",
    "    assert res == 7"
   ]
  },
  {
   "cell_type": "markdown",
   "metadata": {},
   "source": [
    "## Fixture scope"
   ]
  },
  {
   "cell_type": "code",
   "execution_count": null,
   "metadata": {},
   "outputs": [],
   "source": [
    "@pytest.fixture(scope=\"function\")\n",
    "def func_fixture():\n",
    "    print(\"\\nfunc\")\n",
    "\n",
    "\n",
    "@pytest.fixture(scope=\"module\")\n",
    "def module_fixture():\n",
    "    print(\"\\nmodule\")\n",
    "\n",
    "\n",
    "@pytest.fixture(scope=\"session\")\n",
    "def session_fixture():\n",
    "    print(\"\\nsession\")"
   ]
  },
  {
   "cell_type": "code",
   "execution_count": null,
   "metadata": {},
   "outputs": [],
   "source": [
    "%%ipytest -s\n",
    "\n",
    "def test_something(func_fixture, module_fixture, session_fixture):\n",
    "    pass\n",
    "\n",
    "def test_something_else(func_fixture, module_fixture, session_fixture):\n",
    "    pass"
   ]
  },
  {
   "cell_type": "markdown",
   "metadata": {},
   "source": [
    "## Setup-teardown behaviour"
   ]
  },
  {
   "cell_type": "code",
   "execution_count": null,
   "metadata": {},
   "outputs": [],
   "source": [
    "@pytest.fixture\n",
    "def some_fixture():\n",
    "    print(\"some_fixture is run now\")\n",
    "    yield \"some magical value\"\n",
    "    print(\"\\nthis will be run after test execution, you can do e.g. some clean up here\")"
   ]
  },
  {
   "cell_type": "code",
   "execution_count": null,
   "metadata": {},
   "outputs": [],
   "source": [
    "%%ipytest -s\n",
    "\n",
    "def test_something(some_fixture):\n",
    "    print('running test_something')\n",
    "    assert some_fixture == 'some magical value'\n",
    "    print('test ends here')"
   ]
  },
  {
   "cell_type": "markdown",
   "metadata": {},
   "source": [
    "## Using fixtures automatically"
   ]
  },
  {
   "cell_type": "code",
   "execution_count": null,
   "metadata": {},
   "outputs": [],
   "source": [
    "@pytest.fixture(autouse=True)\n",
    "def my_fixture():\n",
    "    print(\"\\nusing my_fixture\")"
   ]
  },
  {
   "cell_type": "code",
   "execution_count": null,
   "metadata": {},
   "outputs": [],
   "source": [
    "%%ipytest -s\n",
    "\n",
    "def test_1():\n",
    "    pass\n",
    "    \n",
    "def test_2():\n",
    "    pass"
   ]
  }
 ],
 "metadata": {
  "kernelspec": {
   "display_name": "Python 3",
   "language": "python",
   "name": "python3"
  },
  "language_info": {
   "codemirror_mode": {
    "name": "ipython",
    "version": 3
   },
   "file_extension": ".py",
   "mimetype": "text/x-python",
   "name": "python",
   "nbconvert_exporter": "python",
   "pygments_lexer": "ipython3",
   "version": "3.13.5"
  }
 },
 "nbformat": 4,
 "nbformat_minor": 2
}
