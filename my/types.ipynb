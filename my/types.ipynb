{
 "cells": [
  {
   "cell_type": "code",
   "execution_count": null,
   "id": "35c9bcd3",
   "metadata": {},
   "outputs": [],
   "source": []
  },
  {
   "cell_type": "code",
   "execution_count": 13,
   "id": "49a18992",
   "metadata": {},
   "outputs": [],
   "source": [
    "from traitlets import Bool\n",
    "\n",
    "\n",
    "def some(\n",
    "    one: int | str,\n",
    "    other: bool = True,\n",
    ") -> str:\n",
    "    \"\"\"_summary_\n",
    "\n",
    "    Args:\n",
    "        one (int | str): _description_\n",
    "        other (bool, optional): _description_. Defaults to True.\n",
    "\n",
    "    Returns:\n",
    "        str: _description_\n",
    "    \"\"\"\n",
    "    return str(one)\n",
    "\n",
    "other = 5 # type: float|str"
   ]
  },
  {
   "cell_type": "code",
   "execution_count": null,
   "id": "7415a92e",
   "metadata": {},
   "outputs": [
    {
     "data": {
      "text/plain": [
       "{'one': int | str, 'other': bool, 'return': str}"
      ]
     },
     "execution_count": 10,
     "metadata": {},
     "output_type": "execute_result"
    }
   ],
   "source": [
    "\n",
    "some.__annotations__\n",
    "\n"
   ]
  },
  {
   "cell_type": "code",
   "execution_count": 7,
   "id": "581d05ef",
   "metadata": {},
   "outputs": [
    {
     "data": {
      "text/plain": [
       "<zip at 0x7cd513ec60c0>"
      ]
     },
     "execution_count": 7,
     "metadata": {},
     "output_type": "execute_result"
    }
   ],
   "source": [
    "from typing import Tuple, List, Dict, Any, Union, Optional, Callable, Generic, Sequence, TypeVar\n",
    "\n",
    "names: List[str] = [\"al\", \"pal\"]\n",
    "ages: List[int] = [20, 55]\n",
    "pets: Sequence[str] = [\"cat\", \"dog\"]\n",
    "\n",
    "\n",
    "pack = zip(names, ages)\n",
    "\n",
    "pack"
   ]
  },
  {
   "cell_type": "code",
   "execution_count": 11,
   "id": "0609deed",
   "metadata": {},
   "outputs": [],
   "source": [
    "Choosable = TypeVar(\"Choosable\", str, int, float)"
   ]
  },
  {
   "cell_type": "code",
   "execution_count": null,
   "id": "abff96c3",
   "metadata": {},
   "outputs": [],
   "source": [
    "def some() -> \"str\":\n",
    "    return \"some\""
   ]
  }
 ],
 "metadata": {
  "kernelspec": {
   "display_name": "Python 3",
   "language": "python",
   "name": "python3"
  },
  "language_info": {
   "codemirror_mode": {
    "name": "ipython",
    "version": 3
   },
   "file_extension": ".py",
   "mimetype": "text/x-python",
   "name": "python",
   "nbconvert_exporter": "python",
   "pygments_lexer": "ipython3",
   "version": "3.13.5"
  }
 },
 "nbformat": 4,
 "nbformat_minor": 5
}
